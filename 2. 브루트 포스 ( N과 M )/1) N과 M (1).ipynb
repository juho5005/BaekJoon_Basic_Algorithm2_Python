{
 "cells": [
  {
   "cell_type": "code",
   "execution_count": null,
   "id": "9d68b3ce",
   "metadata": {},
   "outputs": [],
   "source": [
    "# N과 M (1)\n",
    "\n",
    "import sys\n",
    "n, m = tuple(map(int, sys.stdin.readline().split()))\n",
    "\n",
    "# 1부터 N까지 자연수 중에서 중복없이 M개를 고른 수열\n",
    "# 순서 상관 O\n",
    "# 중복 X\n",
    "\n",
    "visited = [False] * (n+1)\n",
    "\n",
    "answer = []\n",
    "\n",
    "\n",
    "def print_answer():\n",
    "    for elem in answer:\n",
    "        print(elem, end=' ')\n",
    "    print()\n",
    "\n",
    "\n",
    "def choose(curr_num):\n",
    "    if curr_num == m+1:\n",
    "        print_answer()\n",
    "        return\n",
    "\n",
    "    for i in range(1, n+1):\n",
    "        if not visited[i]:\n",
    "            visited[i] = True\n",
    "            answer.append(i)\n",
    "            choose(curr_num+1)\n",
    "            answer.pop()\n",
    "            visited[i] = False\n",
    "\n",
    "\n",
    "choose(1)"
   ]
  }
 ],
 "metadata": {
  "kernelspec": {
   "display_name": "Python 3",
   "language": "python",
   "name": "python3"
  },
  "language_info": {
   "codemirror_mode": {
    "name": "ipython",
    "version": 3
   },
   "file_extension": ".py",
   "mimetype": "text/x-python",
   "name": "python",
   "nbconvert_exporter": "python",
   "pygments_lexer": "ipython3",
   "version": "3.8.8"
  }
 },
 "nbformat": 4,
 "nbformat_minor": 5
}
