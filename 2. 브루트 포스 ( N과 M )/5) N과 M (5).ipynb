{
 "cells": [
  {
   "cell_type": "markdown",
   "id": "0a983f3f",
   "metadata": {},
   "source": [
    "### if A in B : 를 이용한 방식"
   ]
  },
  {
   "cell_type": "code",
   "execution_count": null,
   "id": "61ccdea1",
   "metadata": {},
   "outputs": [],
   "source": [
    "import sys\n",
    "n, m = tuple(map(int, sys.stdin.readline().split()))\n",
    "nums = list(map(int, sys.stdin.readline().split()))\n",
    "\n",
    "nums.sort()  # 정렬\n",
    "\n",
    "answer = []\n",
    "\n",
    "def print_permutation():\n",
    "    for elem in answer:\n",
    "        print(elem, end=' ')\n",
    "    print()\n",
    "\n",
    "def choose(curr_num):  # curr_num번째 수를 고르는 함수\n",
    "    if curr_num == m+1:\n",
    "        print_permutation()\n",
    "        return\n",
    "\n",
    "    for elem in nums:\n",
    "        if elem not in answer:\n",
    "            answer.append(elem)\n",
    "            choose(curr_num+1)\n",
    "            answer.pop()\n",
    "\n",
    "choose(1)"
   ]
  },
  {
   "cell_type": "markdown",
   "id": "6fc41c8c",
   "metadata": {},
   "source": [
    "### visited를 이용한 방식"
   ]
  },
  {
   "cell_type": "code",
   "execution_count": null,
   "id": "4037cd68",
   "metadata": {},
   "outputs": [],
   "source": [
    "# N과 M (5)\n",
    "\n",
    "import sys\n",
    "n, m = tuple(map(int, sys.stdin.readline().split()))\n",
    "# 1 <= M, N <= 8\n",
    "\n",
    "nums = list(map(int, sys.stdin.readline().split()))\n",
    "nums.sort()\n",
    "# 1 <= num <= 10,000\n",
    "\n",
    "answer = []\n",
    "visited = [False] * n\n",
    "\n",
    "# 중복 X\n",
    "# 순서 상관 O\n",
    "\n",
    "\n",
    "def print_answer():\n",
    "    for elem in answer:\n",
    "        print(elem, end=' ')\n",
    "    print()\n",
    "\n",
    "\n",
    "def choose(curr_num):  # curr_num 번째 숫자를 고를 때\n",
    "    if curr_num == m+1:\n",
    "        print_answer()\n",
    "        return\n",
    "\n",
    "    for i in range(n):\n",
    "        if not visited[i]:\n",
    "            visited[i] = True\n",
    "            answer.append(nums[i])\n",
    "            choose(curr_num+1)\n",
    "            answer.pop()\n",
    "            visited[i] = False\n",
    "\n",
    "\n",
    "choose(1)\n"
   ]
  }
 ],
 "metadata": {
  "kernelspec": {
   "display_name": "Python 3",
   "language": "python",
   "name": "python3"
  },
  "language_info": {
   "codemirror_mode": {
    "name": "ipython",
    "version": 3
   },
   "file_extension": ".py",
   "mimetype": "text/x-python",
   "name": "python",
   "nbconvert_exporter": "python",
   "pygments_lexer": "ipython3",
   "version": "3.8.8"
  }
 },
 "nbformat": 4,
 "nbformat_minor": 5
}
