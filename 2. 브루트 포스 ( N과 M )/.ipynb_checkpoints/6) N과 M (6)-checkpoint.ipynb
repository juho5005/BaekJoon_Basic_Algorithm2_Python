{
 "cells": [
  {
   "cell_type": "code",
   "execution_count": null,
   "id": "9dd0021a",
   "metadata": {},
   "outputs": [],
   "source": [
    "# N과 M (6)\n",
    "\n",
    "import sys\n",
    "n, m = tuple(map(int, sys.stdin.readline().split()))\n",
    "# 1 <= M, N <= 8\n",
    "\n",
    "\n",
    "# N개의 자연수 중에서 M개를 고른 수열\n",
    "# 고른 수열은 오름 차순\n",
    "# 중복 X\n",
    "\n",
    "nums = list(map(int, sys.stdin.readline().split()))\n",
    "nums.sort()\n",
    "\n",
    "answer = []\n",
    "\n",
    "\n",
    "def print_answer():\n",
    "    for elem in answer:\n",
    "        print(elem, end=' ')\n",
    "    print()\n",
    "\n",
    "\n",
    "def choose(curr_num):  # curr_num번째 자리수를 고를 때\n",
    "    if curr_num == m + 1:\n",
    "        print_answer()\n",
    "        return\n",
    "\n",
    "    for elem in nums:\n",
    "        if elem not in answer:\n",
    "            if len(answer) == 0:\n",
    "                answer.append(elem)\n",
    "                choose(curr_num+1)\n",
    "                answer.pop()\n",
    "            else:\n",
    "                if elem > answer[-1]:\n",
    "                    answer.append(elem)\n",
    "                    choose(curr_num+1)\n",
    "                    answer.pop()\n",
    "\n",
    "\n",
    "choose(1)"
   ]
  }
 ],
 "metadata": {
  "kernelspec": {
   "display_name": "Python 3",
   "language": "python",
   "name": "python3"
  },
  "language_info": {
   "codemirror_mode": {
    "name": "ipython",
    "version": 3
   },
   "file_extension": ".py",
   "mimetype": "text/x-python",
   "name": "python",
   "nbconvert_exporter": "python",
   "pygments_lexer": "ipython3",
   "version": "3.8.8"
  }
 },
 "nbformat": 4,
 "nbformat_minor": 5
}
