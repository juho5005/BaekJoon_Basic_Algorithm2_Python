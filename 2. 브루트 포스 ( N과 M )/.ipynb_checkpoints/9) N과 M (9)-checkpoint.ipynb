{
 "cells": [
  {
   "cell_type": "code",
   "execution_count": null,
   "id": "39fb5abb",
   "metadata": {},
   "outputs": [],
   "source": [
    "import sys\n",
    "n, m = tuple(map(int, sys.stdin.readline().split()))\n",
    "nums = list(map(int, sys.stdin.readline().split()))\n",
    "# 1 <= num <= 10,000 (자연수)\n",
    "nums.sort()\n",
    "\n",
    "visited = [False] * n  # 방문여부를 확인하기 위함\n",
    "\n",
    "answer = []\n",
    "\n",
    "def print_answer():\n",
    "    for elem in answer:\n",
    "        print(elem, end=' ')\n",
    "    print()\n",
    "\n",
    "def choose(curr_num):  # curr_num번째 숫자를 선택하는 경우\n",
    "    if curr_num == m+1:\n",
    "        print_answer()\n",
    "        return\n",
    "\n",
    "    last = -1\n",
    "    for i in range(n):\n",
    "        if not visited[i] and last != nums[i]:\n",
    "            visited[i] = True\n",
    "            answer.append(nums[i])\n",
    "            last = nums[i]\n",
    "            choose(curr_num+1)\n",
    "            answer.pop()\n",
    "            visited[i] = False\n",
    "\n",
    "choose(1)\n"
   ]
  }
 ],
 "metadata": {
  "kernelspec": {
   "display_name": "Python 3",
   "language": "python",
   "name": "python3"
  },
  "language_info": {
   "codemirror_mode": {
    "name": "ipython",
    "version": 3
   },
   "file_extension": ".py",
   "mimetype": "text/x-python",
   "name": "python",
   "nbconvert_exporter": "python",
   "pygments_lexer": "ipython3",
   "version": "3.8.8"
  }
 },
 "nbformat": 4,
 "nbformat_minor": 5
}
