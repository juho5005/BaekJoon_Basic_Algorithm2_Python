{
 "cells": [
  {
   "cell_type": "markdown",
   "id": "b004d621",
   "metadata": {},
   "source": [
    "문제 풀이 : https://raspy-turnip-f8d.notion.site/9095-1-2-3-1ae7dc4a89f945fbb92b042d7ef545d4"
   ]
  },
  {
   "cell_type": "code",
   "execution_count": null,
   "id": "5d887bd5",
   "metadata": {},
   "outputs": [],
   "source": [
    "# 1, 2, 3 더하기\n",
    "\n",
    "# 정수 n이 주어졌을 때 n을 1, 2, 3의 합으로 나타내는 방법의 수를 구하시오.\n",
    "\n",
    "import sys\n",
    "t = int(sys.stdin.readline())\n",
    "\n",
    "nums = [0, 1, 2, 4]\n",
    "\n",
    "for i in range(4, 12):\n",
    "    nums.append(nums[i-1] + nums[i-2] + nums[i-3])\n",
    "\n",
    "for _ in range(t):\n",
    "    n = int(sys.stdin.readline())  # 1 <= n <= 11\n",
    "    print(nums[n])"
   ]
  }
 ],
 "metadata": {
  "kernelspec": {
   "display_name": "Python 3",
   "language": "python",
   "name": "python3"
  },
  "language_info": {
   "codemirror_mode": {
    "name": "ipython",
    "version": 3
   },
   "file_extension": ".py",
   "mimetype": "text/x-python",
   "name": "python",
   "nbconvert_exporter": "python",
   "pygments_lexer": "ipython3",
   "version": "3.8.8"
  }
 },
 "nbformat": 4,
 "nbformat_minor": 5
}
