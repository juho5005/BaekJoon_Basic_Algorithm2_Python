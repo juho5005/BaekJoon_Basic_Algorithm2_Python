{
 "cells": [
  {
   "cell_type": "markdown",
   "id": "6ccbc436",
   "metadata": {},
   "source": [
    "문제 풀이 : https://raspy-turnip-f8d.notion.site/3085-1da3769976aa427c9fe1a5c70d652dca"
   ]
  },
  {
   "cell_type": "code",
   "execution_count": null,
   "id": "9ad306bd",
   "metadata": {},
   "outputs": [],
   "source": [
    "# 사탕 게임\n",
    "# N x N 크기에 사탕을 채워 놓는다.\n",
    "# 사탕의 색은 모두 같지 않을 수도 있다.\n",
    "\n",
    "# 사탕의 색이 다른 인접한 두 칸을 골라 서로 사탕을 교환 후\n",
    "# (색이 다른 인접한 두 칸이 존재하는 입력만 주어진다)\n",
    "# 모두 같은 색으로 이루어져 있는 가장 긴 연속 부분(행 또는 열)의 개수는 ?\n",
    "\n",
    "import sys\n",
    "n = int(sys.stdin.readline())\n",
    "# 3 <= N <= 50 : 완전 탐색\n",
    "\n",
    "board = [\n",
    "    list(sys.stdin.readline().rstrip())\n",
    "    for _ in range(n)\n",
    "]  # 빨간색 : C, 파란색 : P, 초록색 : Z, 노란색 : Y\n",
    "\n",
    "\n",
    "def check():\n",
    "    cnt_candy = 1  # 최소 한개가 존재\n",
    "\n",
    "    for i in range(n):\n",
    "        cnt_row = 1  # 행에서 사탕의 개수\n",
    "        cnt_col = 1  # 열에서 사탕의 개수\n",
    "        for j in range(n-1):\n",
    "            if board[j][i] == board[j+1][i]:\n",
    "                cnt_row += 1\n",
    "            else:\n",
    "                cnt_candy = max(cnt_candy, cnt_row)\n",
    "                cnt_row = 1\n",
    "\n",
    "            if board[i][j] == board[i][j+1]:\n",
    "                cnt_col += 1\n",
    "            else:\n",
    "                cnt_candy = max(cnt_candy, cnt_col)\n",
    "                cnt_col = 1\n",
    "\n",
    "        cnt_candy = max(cnt_candy, cnt_row, cnt_col)\n",
    "\n",
    "    return cnt_candy\n",
    "\n",
    "\n",
    "max_candy = float('-inf')\n",
    "for i in range(n):\n",
    "    for j in range(n-1):\n",
    "        # 인접한 행들을 비교하여 따져준다.\n",
    "        if board[j][i] != board[j+1][i]:\n",
    "            # 인접한 칸의 색깔을 서로 바꿔준다.\n",
    "            board[j][i], board[j+1][i] = board[j+1][i], board[j][i]\n",
    "\n",
    "            max_candy = max(max_candy, check())\n",
    "\n",
    "            # 인접한 칸의 색깔을 원래대로 돌려준다.\n",
    "            board[j][i], board[j+1][i] = board[j+1][i], board[j][i]\n",
    "\n",
    "        # 인접한 열들을 비교하여 따져준다.\n",
    "        if board[i][j] != board[i][j+1]:\n",
    "            # 인접한 칸의 색깔을 서로 바꿔준다.\n",
    "            board[i][j], board[i][j+1] = board[i][j+1], board[i][j]\n",
    "\n",
    "            max_candy = max(max_candy, check())\n",
    "\n",
    "            # 인접한 칸의 색깔을 원래대로 돌려준다.\n",
    "            board[i][j], board[i][j+1] = board[i][j+1], board[i][j]\n",
    "print(max_candy)"
   ]
  }
 ],
 "metadata": {
  "kernelspec": {
   "display_name": "Python 3",
   "language": "python",
   "name": "python3"
  },
  "language_info": {
   "codemirror_mode": {
    "name": "ipython",
    "version": 3
   },
   "file_extension": ".py",
   "mimetype": "text/x-python",
   "name": "python",
   "nbconvert_exporter": "python",
   "pygments_lexer": "ipython3",
   "version": "3.8.8"
  }
 },
 "nbformat": 4,
 "nbformat_minor": 5
}
