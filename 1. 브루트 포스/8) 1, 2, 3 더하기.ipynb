{
 "cells": [
  {
   "cell_type": "markdown",
   "id": "e81adc6c",
   "metadata": {},
   "source": [
    "문제 풀이 : https://raspy-turnip-f8d.notion.site/9095-1-2-3-1ae7dc4a89f945fbb92b042d7ef545d4"
   ]
  },
  {
   "cell_type": "markdown",
   "id": "525f845d",
   "metadata": {},
   "source": [
    "## 재귀를 이용하여 해결한 방법 "
   ]
  },
  {
   "cell_type": "code",
   "execution_count": null,
   "id": "d72cc987",
   "metadata": {},
   "outputs": [],
   "source": [
    "import sys \n",
    "t = int(sys.stdin.readline())\n",
    "\n",
    "def sol(n) :\n",
    "    if n == 1 :\n",
    "        return 1\n",
    "    elif n == 2 :\n",
    "        return 2\n",
    "    elif n == 3 :\n",
    "        return 4\n",
    "    else :\n",
    "        return sol(n-1) + sol(n-2) + sol(n-3)\n",
    "\n",
    "for _ in range(t) :\n",
    "    # 1 <= n <= 10\n",
    "    n = int(sys.stdin.readline())\n",
    "\n",
    "    print(sol(n))"
   ]
  },
  {
   "cell_type": "markdown",
   "id": "146c33e6",
   "metadata": {},
   "source": [
    "## dp를 이용하여 해결한 방법"
   ]
  },
  {
   "cell_type": "code",
   "execution_count": null,
   "id": "46f9a528",
   "metadata": {},
   "outputs": [],
   "source": [
    "import sys \n",
    "t = int(sys.stdin.readline())\n",
    "\n",
    "# 각각의 1, 2, 3의 합으로 나타낼 수 있는 방법의 개수인 dp 리스트 생성\n",
    "dp = [0, 1, 2, 4] # 맨 앞 0은 n을 1부터 시작하기 위함이다.\n",
    "\n",
    "# 1 <= n <= 10 \n",
    "for i in range(4, 11) :\n",
    "    dp.append(dp[i-1] + dp[i-2] + dp[i-3])\n",
    "\n",
    "\n",
    "for _ in range(t) :\n",
    "    n = int(sys.stdin.readline())\n",
    "    print(dp[n])"
   ]
  }
 ],
 "metadata": {
  "kernelspec": {
   "display_name": "Python 3",
   "language": "python",
   "name": "python3"
  },
  "language_info": {
   "codemirror_mode": {
    "name": "ipython",
    "version": 3
   },
   "file_extension": ".py",
   "mimetype": "text/x-python",
   "name": "python",
   "nbconvert_exporter": "python",
   "pygments_lexer": "ipython3",
   "version": "3.8.8"
  }
 },
 "nbformat": 4,
 "nbformat_minor": 5
}
