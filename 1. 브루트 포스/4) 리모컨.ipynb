{
 "cells": [
  {
   "cell_type": "markdown",
   "id": "21b0ae62",
   "metadata": {},
   "source": [
    "문제 풀이 : https://raspy-turnip-f8d.notion.site/1107-5fe71cb5ab834847968d35fa830bd7c6"
   ]
  },
  {
   "cell_type": "code",
   "execution_count": null,
   "id": "90415b67",
   "metadata": {},
   "outputs": [],
   "source": [
    "import sys\n",
    "n = int(sys.stdin.readline())  # 이동하려고 하는 채널 N\n",
    "# 0 <= N <= 500,000\n",
    "\n",
    "m = int(sys.stdin.readline())  # 고장난 버튼의 개수 M\n",
    "# 0 <= M <= 10\n",
    "\n",
    "buttons = [0, 1, 2, 3, 4, 5, 6, 7, 8, 9]  # 초기 리모컨 버튼 목록\n",
    "\n",
    "if m == 0:  # 고장난 버튼이 없는 경우\n",
    "    pass\n",
    "else:\n",
    "    broken = list(map(int, sys.stdin.readline().split()))\n",
    "    for button in broken:\n",
    "        buttons.remove(button)  # 같은 버튼이 여러 번 주어지는 경우가 없다.\n",
    "\n",
    "# 현재 채널\n",
    "cur_channel = 100\n",
    "\n",
    "# 첫 번째 경우 : 숫자로 채널을 이동하지 않고 '+', '-'만 눌러서 채널을 변경할 때\n",
    "min_cnt = abs(cur_channel - n)\n",
    "\n",
    "# 두 번째 경우 : 고장나지 않은 버튼들로 만들 수 있는 채널에서 n까지의 차의 절댓값과\n",
    "# 만들 수 있는 채널의 길이(채널을 만들 때 누른 리모콘의 버튼 횟수) 의 합\n",
    "for channel in range(1000001):  # 주어진 0<=N<=500,000 의 2배의 범위를 설정해야 '-'도 고려가능\n",
    "    channel = str(channel)\n",
    "    l = len(channel)\n",
    "\n",
    "    for i in range(l):\n",
    "        if int(channel[i]) not in buttons:\n",
    "            break  # 만들 수 없는 수이므로 종료\n",
    "\n",
    "        # 채널의 마지막 숫자까지 고장나지 않은 버튼으로 이루어졌다면, min_cnt을 갱신해준다.\n",
    "        if i == l-1 and int(channel[i]) in buttons:\n",
    "            min_cnt = min(min_cnt, abs(n-int(channel)) + len(channel))\n",
    "\n",
    "print(min_cnt)"
   ]
  }
 ],
 "metadata": {
  "kernelspec": {
   "display_name": "Python 3",
   "language": "python",
   "name": "python3"
  },
  "language_info": {
   "codemirror_mode": {
    "name": "ipython",
    "version": 3
   },
   "file_extension": ".py",
   "mimetype": "text/x-python",
   "name": "python",
   "nbconvert_exporter": "python",
   "pygments_lexer": "ipython3",
   "version": "3.8.8"
  }
 },
 "nbformat": 4,
 "nbformat_minor": 5
}
