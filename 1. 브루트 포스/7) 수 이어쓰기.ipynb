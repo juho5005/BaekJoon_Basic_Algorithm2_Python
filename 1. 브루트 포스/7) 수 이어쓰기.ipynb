{
 "cells": [
  {
   "cell_type": "markdown",
   "id": "561f7e49",
   "metadata": {},
   "source": [
    "문제 풀이 추가 설명 : https://raspy-turnip-f8d.notion.site/1748-1-00e7890a96c044c2ba92ec902c3e76ed"
   ]
  },
  {
   "cell_type": "code",
   "execution_count": null,
   "id": "d3b5d9f9",
   "metadata": {},
   "outputs": [],
   "source": [
    "# 1 ~ N까지의 수를 이어 썼을 때\n",
    "# 새로운 수는 몇 자리 수일까?\n",
    "\n",
    "import sys \n",
    "n = int(sys.stdin.readline())\n",
    "# 1 <= N <=100,000,000 이므로 시간 복잡도 고려 대상\n",
    "\n",
    "compare = 1\n",
    "cnt = 0\n",
    "i = 1\n",
    "j = 1\n",
    "\n",
    "while 1 :\n",
    "    compare *= 10\n",
    "    cnt += (compare-j) * i\n",
    "    if n < compare : \n",
    "        cnt -= (compare - (n + 1) ) * i  # 진짜 n의 값만큼 자리수를 빼준다.\n",
    "        break\n",
    "\n",
    "    i += 1\n",
    "    j *= 10\n",
    "\n",
    "print(cnt)"
   ]
  }
 ],
 "metadata": {
  "kernelspec": {
   "display_name": "Python 3",
   "language": "python",
   "name": "python3"
  },
  "language_info": {
   "codemirror_mode": {
    "name": "ipython",
    "version": 3
   },
   "file_extension": ".py",
   "mimetype": "text/x-python",
   "name": "python",
   "nbconvert_exporter": "python",
   "pygments_lexer": "ipython3",
   "version": "3.8.8"
  }
 },
 "nbformat": 4,
 "nbformat_minor": 5
}
