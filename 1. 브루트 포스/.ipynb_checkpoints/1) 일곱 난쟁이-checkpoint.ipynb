{
 "cells": [
  {
   "cell_type": "markdown",
   "id": "122ecefe",
   "metadata": {},
   "source": [
    "# 조합 활용1\n",
    "조합을 이용하여 9명의 난쟁이들 중 각각 다른 조합의 7명의 난쟁이를 골랐을 때 키의 합이 100이 된다면 종료하고, 만약 조건에 걸린 조합이 없다면 아무거나 출력하였다.\n"
   ]
  },
  {
   "cell_type": "code",
   "execution_count": null,
   "id": "fb800c30",
   "metadata": {},
   "outputs": [],
   "source": [
    "# 일곱 난쟁이\n",
    "# 7명의 난쟁이의 키의 합이 100\n",
    "# 일곱 난쟁이를 찾으시오\n",
    "# 2초\n",
    "\n",
    "import sys \n",
    "from itertools import combinations\n",
    "\n",
    "# 키는 난쟁이 각각 모두 다르다.\n",
    "# 만약 가능한 정답이 여러 가지인 경우는 아무거나 출력한다.\n",
    "heights = [\n",
    "    int(sys.stdin.readline())\n",
    "    for _ in range(9)\n",
    "]\n",
    "\n",
    "finisehd = False \n",
    "# 키는 오름차순으로 출력한다.\n",
    "for seven in combinations(heights, 7) :\n",
    "    if sum(seven) == 100 :\n",
    "        finished = True \n",
    "        seven = list(seven)\n",
    "        seven.sort()\n",
    "\n",
    "        for elem in seven :\n",
    "            print(elem)\n",
    "        break # 테스트 케이스가 여러 가지일 경우, 아무거나 출력 후 반복문 종료\n",
    "\n",
    "# 만약 경우에 없을 경우, 아무거나 출력.\n",
    "if not finished : \n",
    "    sys.stdout.write('Whatever')"
   ]
  },
  {
   "cell_type": "markdown",
   "id": "7dc03f04",
   "metadata": {},
   "source": [
    "# 조합 활용2\n",
    "위에서는 9명의 난쟁이 중에서 7명의 난쟁이를 골라서 합이 되는 경우를 찾았다면, 이 방식 오히려 거짓 난쟁이 2명을 무작위로 골라내서 (전체난쟁이의 합 - 100)이 두 명의 거짓 난쟁이의 키와 같은 경우를 찾는 방식"
   ]
  },
  {
   "cell_type": "code",
   "execution_count": null,
   "id": "98fbfde0",
   "metadata": {},
   "outputs": [],
   "source": [
    "# 일곱 난쟁이\n",
    "# 7명의 난쟁이의 키의 합이 100\n",
    "# 일곱 난쟁이를 찾으시오\n",
    "# 2초\n",
    "\n",
    "import sys \n",
    "from itertools import combinations\n",
    "\n",
    "# 키는 난쟁이 각각 모두 다르다.\n",
    "# 만약 가능한 정답이 여러 가지인 경우는 아무거나 출력한다.\n",
    "heights = [\n",
    "    int(sys.stdin.readline())\n",
    "    for _ in range(9)\n",
    "]\n",
    "\n",
    "nine_heights = sum(heights)\n",
    "\n",
    "finisehd = False \n",
    "# 키는 오름차순으로 출력한다.\n",
    "for two in combinations(heights, 2) :\n",
    "    if sum(two) == nine_heights - 100 :\n",
    "        finished = True \n",
    "\n",
    "        heights.remove(two[0])\n",
    "        heights.remove(two[1])\n",
    "        \n",
    "        for elem in sorted(heights) : \n",
    "            print(elem)\n",
    "        break\n",
    "\n",
    "\n",
    "# 만약 경우에 없을 경우, 아무거나 출력.\n",
    "if not finished : \n",
    "    sys.stdout.write('Whatever')"
   ]
  },
  {
   "cell_type": "markdown",
   "id": "27ee2db5",
   "metadata": {},
   "source": [
    "# 이중 반복문으로 구할 때"
   ]
  },
  {
   "cell_type": "code",
   "execution_count": null,
   "id": "ccaad865",
   "metadata": {},
   "outputs": [],
   "source": [
    "import sys \n",
    "heights = []\n",
    "for i in range(9) :\n",
    "    heights.append(int(sys.stdin.readline()))\n",
    "\n",
    "# 난쟁이 2명을 골라서 전체 키에서 난쟁이 두 명의 키를 뺐을 때 100이 되는 경우를 찾자\n",
    "s_h = sum(heights)\n",
    "\n",
    "one = 0\n",
    "two = 0\n",
    "for i in range(9) :\n",
    "    for j in range(i+1, 9) :\n",
    "        if s_h - 100 == heights[i] + heights[j] : \n",
    "            one = heights[i]\n",
    "            two = heights[j]\n",
    "            break\n",
    "\n",
    "heights.remove(one)\n",
    "heights.remove(two)\n",
    "heights.sort()\n",
    "\n",
    "for elem in heights :\n",
    "    print(elem)"
   ]
  }
 ],
 "metadata": {
  "kernelspec": {
   "display_name": "Python 3",
   "language": "python",
   "name": "python3"
  },
  "language_info": {
   "codemirror_mode": {
    "name": "ipython",
    "version": 3
   },
   "file_extension": ".py",
   "mimetype": "text/x-python",
   "name": "python",
   "nbconvert_exporter": "python",
   "pygments_lexer": "ipython3",
   "version": "3.8.8"
  }
 },
 "nbformat": 4,
 "nbformat_minor": 5
}
