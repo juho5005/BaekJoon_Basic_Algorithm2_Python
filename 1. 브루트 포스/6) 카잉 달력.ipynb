{
 "cells": [
  {
   "cell_type": "markdown",
   "id": "a11169f8",
   "metadata": {},
   "source": [
    "문제 풀이 : https://raspy-turnip-f8d.notion.site/6064-5ac7e4ac22174a4f8fbbf23f39b95e5d"
   ]
  },
  {
   "cell_type": "markdown",
   "id": "2c06404b",
   "metadata": {},
   "source": [
    "### x <= m*n 범위까지 비교한 풀이"
   ]
  },
  {
   "cell_type": "code",
   "execution_count": null,
   "id": "1b7f1134",
   "metadata": {},
   "outputs": [],
   "source": [
    "import sys\n",
    "t = int(sys.stdin.readline())\n",
    "\n",
    "\n",
    "def checking(m, n, x, y):\n",
    "    while x <= m * n:  # x의 범위는 m*n의 범위를 넘을 수 없기 때문\n",
    "        if x % n == y % n:\n",
    "            return x\n",
    "        x += m\n",
    "    return -1\n",
    "\n",
    "\n",
    "for _ in range(t):\n",
    "    m, n, x, y = tuple(map(int, sys.stdin.readline().split()))\n",
    "    # 1 <= M, N <= 40,000\n",
    "    # 1 <= x <= M, 1 <= y <= N\n",
    "\n",
    "    print(checking(m, n, x, y))"
   ]
  },
  {
   "cell_type": "markdown",
   "id": "90919530",
   "metadata": {},
   "source": [
    "### m, n의 최소 공배수의 범위까지 비교한 풀이"
   ]
  },
  {
   "cell_type": "code",
   "execution_count": null,
   "id": "de78cb33",
   "metadata": {},
   "outputs": [],
   "source": [
    "import sys\n",
    "import math\n",
    "t = int(sys.stdin.readline())\n",
    "\n",
    "\n",
    "def checking(m, n, x, y):\n",
    "    lcm_m_n = math.lcm(m, n)  # m과 n의 최소 공배수\n",
    "\n",
    "    while x <= lcm_m_n:\n",
    "        if x % n == y % n:\n",
    "            return x\n",
    "        x += m\n",
    "    return -1\n",
    "\n",
    "\n",
    "for _ in range(t):\n",
    "    m, n, x, y = tuple(map(int, sys.stdin.readline().split()))\n",
    "    # 1 <= M, N <= 40,000\n",
    "    # 1 <= x <= M, 1 <= y <= N\n",
    "\n",
    "    print(checking(m, n, x, y))"
   ]
  }
 ],
 "metadata": {
  "kernelspec": {
   "display_name": "Python 3",
   "language": "python",
   "name": "python3"
  },
  "language_info": {
   "codemirror_mode": {
    "name": "ipython",
    "version": 3
   },
   "file_extension": ".py",
   "mimetype": "text/x-python",
   "name": "python",
   "nbconvert_exporter": "python",
   "pygments_lexer": "ipython3",
   "version": "3.8.8"
  }
 },
 "nbformat": 4,
 "nbformat_minor": 5
}
