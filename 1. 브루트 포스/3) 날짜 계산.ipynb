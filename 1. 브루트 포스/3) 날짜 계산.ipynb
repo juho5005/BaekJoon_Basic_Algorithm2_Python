{
 "cells": [
  {
   "cell_type": "code",
   "execution_count": null,
   "id": "dfec8eb7",
   "metadata": {},
   "outputs": [],
   "source": [
    "# 날짜 계산\n",
    "\n",
    "# 수 3개를 이용해서 연도를 나타냄 \n",
    "# 각각 지구(E), 태양(S), 달(M) : 서로 다름\n",
    "\n",
    "import sys \n",
    "E, S, M = tuple(map(int, sys.stdin.readline().split()))\n",
    "\n",
    "e, s, m = 1, 1, 1\n",
    "\n",
    "cnt = 1\n",
    "while E!=e or S!=s or M!=m :\n",
    "    if e == 15 :\n",
    "        e = 0\n",
    "    if s == 28 :\n",
    "        s = 0\n",
    "    if m == 19 :\n",
    "        m = 0\n",
    "    e += 1\n",
    "    s += 1\n",
    "    m += 1\n",
    "    cnt += 1\n",
    "\n",
    "print(cnt)"
   ]
  }
 ],
 "metadata": {
  "kernelspec": {
   "display_name": "Python 3",
   "language": "python",
   "name": "python3"
  },
  "language_info": {
   "codemirror_mode": {
    "name": "ipython",
    "version": 3
   },
   "file_extension": ".py",
   "mimetype": "text/x-python",
   "name": "python",
   "nbconvert_exporter": "python",
   "pygments_lexer": "ipython3",
   "version": "3.8.8"
  }
 },
 "nbformat": 4,
 "nbformat_minor": 5
}
