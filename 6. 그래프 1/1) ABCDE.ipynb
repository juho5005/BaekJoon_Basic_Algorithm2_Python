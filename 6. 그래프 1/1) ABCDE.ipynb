{
 "cells": [
  {
   "cell_type": "markdown",
   "id": "7381c653",
   "metadata": {},
   "source": [
    "# 그래프가 '깊이'가 4이상인 그래프를 찾는 문제"
   ]
  },
  {
   "cell_type": "markdown",
   "id": "303f7b79",
   "metadata": {},
   "source": [
    "# \"BACK TRACKING\" 기술이 필요했다."
   ]
  },
  {
   "cell_type": "markdown",
   "id": "295da2f3",
   "metadata": {},
   "source": [
    "#### 인접 리스트를 활용하여 문제를 해결했을 때 풀이 방식"
   ]
  },
  {
   "cell_type": "markdown",
   "id": "c9dce363",
   "metadata": {},
   "source": [
    "인접 행렬 방식은 모두 \"시간초과\"에 걸리게 되었다.\n",
    "다른 분들의 풀이를 참고했을 때 대부분 인접 리스트 방식을 사용했으므로 인접리스트 방식을 사용하기"
   ]
  },
  {
   "cell_type": "code",
   "execution_count": null,
   "id": "01841953",
   "metadata": {},
   "outputs": [],
   "source": [
    "import sys \n",
    "n, m = tuple(map(int, sys.stdin.readline().split())) # N : 사람의 수, M : 친구 관계의 수\n",
    "\n",
    "graph = [\n",
    "    []\n",
    "    for _ in range(n)\n",
    "]\n",
    "\n",
    "visited = [\n",
    "    False \n",
    "    for _ in range(n)\n",
    "]\n",
    "\n",
    "for _ in range(m) :\n",
    "    a, b = tuple(map(int, sys.stdin.readline().split()))\n",
    "    graph[a].append(b)\n",
    "    graph[b].append(a)\n",
    "\n",
    "def dfs(curr_v, cnt) :\n",
    "\n",
    "    if cnt >= 4 : \n",
    "        print(1)\n",
    "        sys.exit()\n",
    "\n",
    "    for next_v in graph[curr_v] :\n",
    "        if not visited[next_v] :\n",
    "            visited[next_v] = True\n",
    "            dfs(next_v, cnt+1)\n",
    "            visited[next_v] = False \n",
    "\n",
    "for i in range(n) :\n",
    "    visited[i] = True \n",
    "    dfs(i, 0)\n",
    "    visited[i] = False \n",
    "\n",
    "print(0)"
   ]
  }
 ],
 "metadata": {
  "kernelspec": {
   "display_name": "Python 3",
   "language": "python",
   "name": "python3"
  },
  "language_info": {
   "codemirror_mode": {
    "name": "ipython",
    "version": 3
   },
   "file_extension": ".py",
   "mimetype": "text/x-python",
   "name": "python",
   "nbconvert_exporter": "python",
   "pygments_lexer": "ipython3",
   "version": "3.8.8"
  }
 },
 "nbformat": 4,
 "nbformat_minor": 5
}
