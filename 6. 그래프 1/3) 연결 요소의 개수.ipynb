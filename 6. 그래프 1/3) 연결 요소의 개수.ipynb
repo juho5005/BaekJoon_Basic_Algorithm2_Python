{
 "cells": [
  {
   "attachments": {},
   "cell_type": "markdown",
   "id": "a2603906",
   "metadata": {},
   "source": [
    "문제 풀이 : https://raspy-turnip-f8d.notion.site/11724-f285fcd046cf43738ba445cc08a27d8b"
   ]
  },
  {
   "cell_type": "markdown",
   "id": "d3083b18",
   "metadata": {},
   "source": [
    "### DFS 탐색 사용\n",
    "### sys.setrecursionlimit(10000) 을 설정해줘야 재귀 횟수제한에 걸리지 않음"
   ]
  },
  {
   "cell_type": "code",
   "execution_count": null,
   "id": "21ba223e",
   "metadata": {},
   "outputs": [],
   "source": [
    "# 연결 요소의 개수\n",
    "# 방향 없는 그래프가 주어졌을 때, 연결 요소의 개수를 구하시오\n",
    "\n",
    "import sys \n",
    "# 정점(N), 간선(M) 의 개수가 주어진다.\n",
    "n, m = tuple(map(int, sys.stdin.readline().split()))\n",
    "\n",
    "sys.setrecursionlimit(10000)\n",
    "\n",
    "linked_vertex = [\n",
    "    tuple(map(int, sys.stdin.readline().split()))\n",
    "    for _ in range(m)\n",
    "]\n",
    "\n",
    "graph = [\n",
    "    []\n",
    "    for _ in range(n+1)\n",
    "]\n",
    "\n",
    "visited = [\n",
    "    False \n",
    "    for _ in range(n+1)\n",
    "]\n",
    "\n",
    "for start, end in linked_vertex : \n",
    "    graph[start].append(end)\n",
    "    graph[end].append(start)\n",
    "\n",
    "for g in graph : \n",
    "    g.sort()\n",
    "\n",
    "def dfs(curr_v) :\n",
    "    for next_v in graph[curr_v] :\n",
    "        if not visited[next_v] :\n",
    "            visited[next_v] = True \n",
    "            dfs(next_v)\n",
    "\n",
    "cnt = 0 \n",
    "for start_vertex in range(1, n+1) :\n",
    "    if not visited[start_vertex] :\n",
    "        dfs(start_vertex)\n",
    "        cnt += 1\n",
    "\n",
    "print(cnt)\n",
    "\n"
   ]
  },
  {
   "cell_type": "markdown",
   "id": "be2e3d33",
   "metadata": {},
   "source": [
    "### BFS 탐색 사용"
   ]
  },
  {
   "cell_type": "code",
   "execution_count": null,
   "id": "d40de1dc",
   "metadata": {},
   "outputs": [],
   "source": [
    "# 연결 요소의 개수\n",
    "# 방향 없는 그래프가 주어졌을 때, 연결 요소의 개수를 구하시오\n",
    "\n",
    "from collections import deque \n",
    "import sys \n",
    "# 정점(N), 간선(M) 의 개수가 주어진다.\n",
    "n, m = tuple(map(int, sys.stdin.readline().split()))\n",
    "q = deque()\n",
    "\n",
    "linked_vertex = [\n",
    "    tuple(map(int, sys.stdin.readline().split()))\n",
    "    for _ in range(m)\n",
    "]\n",
    "\n",
    "graph = [\n",
    "    []\n",
    "    for _ in range(n+1)\n",
    "]\n",
    "\n",
    "visited = [\n",
    "    False \n",
    "    for _ in range(n+1)\n",
    "]\n",
    "\n",
    "for start, end in linked_vertex : \n",
    "    graph[start].append(end)\n",
    "    graph[end].append(start)\n",
    "\n",
    "for g in graph : \n",
    "    g.sort()\n",
    "\n",
    "def bfs() :\n",
    "    while q :\n",
    "        curr_v = q.popleft()\n",
    "        for next_v in graph[curr_v] :\n",
    "            if not visited[next_v] :\n",
    "                q.append(next_v)\n",
    "                visited[next_v] = True \n",
    "                \n",
    "cnt = 0 \n",
    "for start_vertex in range(1, n+1) :\n",
    "    if not visited[start_vertex] :\n",
    "        q.append(start_vertex)\n",
    "        bfs()\n",
    "        cnt += 1\n",
    "\n",
    "print(cnt)"
   ]
  }
 ],
 "metadata": {
  "kernelspec": {
   "display_name": "Python 3",
   "language": "python",
   "name": "python3"
  },
  "language_info": {
   "codemirror_mode": {
    "name": "ipython",
    "version": 3
   },
   "file_extension": ".py",
   "mimetype": "text/x-python",
   "name": "python",
   "nbconvert_exporter": "python",
   "pygments_lexer": "ipython3",
   "version": "3.8.8"
  }
 },
 "nbformat": 4,
 "nbformat_minor": 5
}
