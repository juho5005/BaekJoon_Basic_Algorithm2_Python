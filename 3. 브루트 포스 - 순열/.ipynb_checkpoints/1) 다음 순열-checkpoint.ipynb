{
 "cells": [
  {
   "cell_type": "markdown",
   "id": "367af273",
   "metadata": {},
   "source": [
    "문제 풀이 : https://raspy-turnip-f8d.notion.site/10972-ed77151171fc4138bdc4f96766d938ae"
   ]
  },
  {
   "cell_type": "code",
   "execution_count": null,
   "id": "848692f1",
   "metadata": {},
   "outputs": [],
   "source": [
    "import sys\n",
    "n = int(sys.stdin.readline())\n",
    "# 1 <= N <= 10,000\n",
    "\n",
    "# 예시 순열 입력\n",
    "nums = list(map(int, sys.stdin.readline().split()))\n",
    "\n",
    "# 교환할 좌표인 swap 변수 생성\n",
    "swap = -1\n",
    "\n",
    "# swap 변수의 최댓값 구하기\n",
    "for i in range(n-1, 0, -1):\n",
    "    if nums[i-1] < nums[i]:\n",
    "        swap = i-1\n",
    "        break\n",
    "\n",
    "if swap == -1:  # 내림차순일 경우 ex) 5 4 3 2 1 (마지막 순열)\n",
    "    print(-1)\n",
    "else:\n",
    "    for j in range(n-1, 0, -1):\n",
    "        # 조건에 해당하는 j의 최댓값과 swap 교환\n",
    "        if nums[swap] < nums[j]:\n",
    "            nums[swap], nums[j] = nums[j], nums[swap]\n",
    "\n",
    "            # swap 이후 정렬\n",
    "            nums = nums[:swap+1] + sorted(nums[swap+1:])\n",
    "            break\n",
    "\n",
    "    for elem in nums:\n",
    "        print(elem, end=' ')"
   ]
  }
 ],
 "metadata": {
  "kernelspec": {
   "display_name": "Python 3",
   "language": "python",
   "name": "python3"
  },
  "language_info": {
   "codemirror_mode": {
    "name": "ipython",
    "version": 3
   },
   "file_extension": ".py",
   "mimetype": "text/x-python",
   "name": "python",
   "nbconvert_exporter": "python",
   "pygments_lexer": "ipython3",
   "version": "3.8.8"
  }
 },
 "nbformat": 4,
 "nbformat_minor": 5
}
