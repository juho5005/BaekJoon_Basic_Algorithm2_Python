{
 "cells": [
  {
   "cell_type": "code",
   "execution_count": null,
   "id": "54f30ce8",
   "metadata": {},
   "outputs": [],
   "source": [
    "# N과 M (7)\n",
    "\n",
    "import sys\n",
    "n, m = tuple(map(int, sys.stdin.readline().split()))\n",
    "nums = list(map(int, sys.stdin.readline().split()))\n",
    "nums.sort()\n",
    "\n",
    "# 같은 수를 여러개 골라도 된다\n",
    "# 수열은 사전 순으로 증가하는 순서대로 출력해야 한다.\n",
    "# 순서를 고려했음\n",
    "\n",
    "answer = []\n",
    "\n",
    "\n",
    "def print_answer():\n",
    "    for elem in answer:\n",
    "        print(elem, end=' ')\n",
    "    print()\n",
    "\n",
    "\n",
    "def choose(curr_num):  # curr_num번째 숫자를 고르는 경우\n",
    "    if curr_num == m+1:\n",
    "        print_answer()\n",
    "        return\n",
    "\n",
    "    for elem in nums:\n",
    "        answer.append(elem)\n",
    "        choose(curr_num+1)\n",
    "        answer.pop()\n",
    "\n",
    "\n",
    "choose(1)\n"
   ]
  }
 ],
 "metadata": {
  "kernelspec": {
   "display_name": "Python 3",
   "language": "python",
   "name": "python3"
  },
  "language_info": {
   "codemirror_mode": {
    "name": "ipython",
    "version": 3
   },
   "file_extension": ".py",
   "mimetype": "text/x-python",
   "name": "python",
   "nbconvert_exporter": "python",
   "pygments_lexer": "ipython3",
   "version": "3.8.8"
  }
 },
 "nbformat": 4,
 "nbformat_minor": 5
}
