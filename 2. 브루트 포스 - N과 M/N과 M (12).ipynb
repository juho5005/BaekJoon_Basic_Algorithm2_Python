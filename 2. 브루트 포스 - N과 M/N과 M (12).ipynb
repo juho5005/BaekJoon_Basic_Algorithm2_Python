{
 "cells": [
  {
   "cell_type": "code",
   "execution_count": null,
   "id": "3be6344e",
   "metadata": {},
   "outputs": [],
   "source": [
    "# N과 M (12)\n",
    "\n",
    "# N개의 자연수 중 M개를 고른 수열\n",
    "# 같은 수를 여러 번 골라도 된다.\n",
    "# 오름차순으로 정렬\n",
    "\n",
    "import sys\n",
    "n, m = tuple(map(int, sys.stdin.readline().split()))\n",
    "# 1 <= M <= N <= 8\n",
    "\n",
    "nums = list(map(int, sys.stdin.readline().split()))\n",
    "nums.sort()\n",
    "# 1 <= num <= 10,000\n",
    "\n",
    "answer = []\n",
    "\n",
    "\n",
    "def print_answer():\n",
    "    for elem in answer:\n",
    "        print(elem, end=' ')\n",
    "    print()\n",
    "\n",
    "\n",
    "def choose(curr_num):  # curr_num번째 수를 뽑을 때\n",
    "    if curr_num == m+1:\n",
    "        print_answer()\n",
    "        return\n",
    "\n",
    "    last = -1\n",
    "\n",
    "    for elem in nums:\n",
    "        if len(answer) == 0:\n",
    "            if elem != last:\n",
    "                answer.append(elem)\n",
    "                last = elem\n",
    "                choose(curr_num+1)\n",
    "                answer.pop()\n",
    "\n",
    "        else:\n",
    "            if max(answer) <= elem:\n",
    "                if elem != last:\n",
    "                    answer.append(elem)\n",
    "                    last = elem\n",
    "                    choose(curr_num+1)\n",
    "                    answer.pop()\n",
    "\n",
    "\n",
    "choose(1)"
   ]
  }
 ],
 "metadata": {
  "kernelspec": {
   "display_name": "Python 3",
   "language": "python",
   "name": "python3"
  },
  "language_info": {
   "codemirror_mode": {
    "name": "ipython",
    "version": 3
   },
   "file_extension": ".py",
   "mimetype": "text/x-python",
   "name": "python",
   "nbconvert_exporter": "python",
   "pygments_lexer": "ipython3",
   "version": "3.8.8"
  }
 },
 "nbformat": 4,
 "nbformat_minor": 5
}
