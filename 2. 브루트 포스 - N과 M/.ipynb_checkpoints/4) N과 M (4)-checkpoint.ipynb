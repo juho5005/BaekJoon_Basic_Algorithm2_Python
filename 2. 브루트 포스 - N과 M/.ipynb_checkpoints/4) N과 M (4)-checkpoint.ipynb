{
 "cells": [
  {
   "cell_type": "code",
   "execution_count": null,
   "id": "91464d66",
   "metadata": {},
   "outputs": [],
   "source": [
    "import sys\n",
    "n, m = tuple(map(int, sys.stdin.readline().split()))\n",
    "\n",
    "# 중복 O\n",
    "# n, n+1일 때 n+1의 수가 n과 같거나 커야함\n",
    "\n",
    "answer = []\n",
    "\n",
    "\n",
    "def print_answer():\n",
    "    for elem in answer:\n",
    "        print(elem, end=' ')\n",
    "    print()\n",
    "\n",
    "\n",
    "def choose(curr_num):  # curr_num번째 수를 고르는 경우\n",
    "    if curr_num == m + 1:\n",
    "        print_answer()\n",
    "        return\n",
    "\n",
    "    for i in range(1, n+1):\n",
    "        if len(answer) == 0:\n",
    "            answer.append(i)\n",
    "            choose(curr_num+1)\n",
    "            answer.pop()\n",
    "        else:\n",
    "            if answer[-1] <= i:\n",
    "                answer.append(i)\n",
    "                choose(curr_num+1)\n",
    "                answer.pop()\n",
    "\n",
    "\n",
    "choose(1)"
   ]
  }
 ],
 "metadata": {
  "kernelspec": {
   "display_name": "Python 3",
   "language": "python",
   "name": "python3"
  },
  "language_info": {
   "codemirror_mode": {
    "name": "ipython",
    "version": 3
   },
   "file_extension": ".py",
   "mimetype": "text/x-python",
   "name": "python",
   "nbconvert_exporter": "python",
   "pygments_lexer": "ipython3",
   "version": "3.8.8"
  }
 },
 "nbformat": 4,
 "nbformat_minor": 5
}
